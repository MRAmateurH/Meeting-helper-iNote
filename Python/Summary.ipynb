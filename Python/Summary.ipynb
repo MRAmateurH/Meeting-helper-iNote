{
 "cells": [
  {
   "cell_type": "code",
   "execution_count": 2,
   "metadata": {},
   "outputs": [],
   "source": [
    "import os\n",
    "import codecs\n",
    "from textrank4zh import TextRank4Keyword, TextRank4Sentence"
   ]
  },
  {
   "cell_type": "code",
   "execution_count": 3,
   "metadata": {},
   "outputs": [
    {
     "name": "stderr",
     "output_type": "stream",
     "text": [
      "Building prefix dict from the default dictionary ...\n",
      "Loading model from cache /var/folders/8b/srcm8f396ys_jhmq4wp4l02h0000gn/T/jieba.cache\n",
      "Loading model cost 0.876 seconds.\n",
      "Prefix dict has been built succesfully.\n"
     ]
    },
    {
     "name": "stdout",
     "output_type": "stream",
     "text": [
      "3.txt\n",
      "縣政府要幫長輩們完成年輕時的夢想，帶著他們進入大學殿堂，同時也希望長輩走出家門多與人群互動，將從下學期起每星期三、四在佛大開課，由社區以遊覽車專車接送報名上學的長者到校，共有24梯次、72輛車，可提供近3千名長輩體驗一日大學生活\n",
      "宜蘭縣政府與佛光大學創辦「高齡生活大學」，請65歲以上長輩來當一日大學生，免費學習，長者在佛大上課後領取結業證書，還能拍學士照，一圓大學夢\n",
      "縣長林姿妙及議員今天在宣傳活動，大聲喊出「帶著高齡長輩去讀冊」，林姿妙鼓勵長輩走出來學習，多與校園裡的年輕人互動，體驗享受難得大學生活，相信家中年輕人看到長輩樂於學習，內心也會很高興\n",
      "2.txt\n",
      "今年5月15日，游被檢警查緝到案，查獲2把改造手槍，游同月16日獲法院裁定交保，他不改囂張本色，5月24日大方在臉書打卡，透露自己的行蹤在墾丁，游打完卡後就在同月29日，夥同龍姓男子（36歲），涉嫌持槍擄走台中李姓商人，恐嚇取財百萬餘元，幸好李趁隙逃逸而未遂，游犯案後，在6月8日更換臉書大頭照，寫下「哥帥的不是外表，哥帥的是心」，十分高調，絲毫不畏檢警查緝\n",
      "專案小組確認游身上無槍後，再等到游欲取車時，前往抓人，當場又查獲2把改造手槍，據專案小組事後清查，游、龍二人除了中打、彰化警方查獲的9把改造槍支外，龍也在今年6月間也被台中市第四警分局查獲4把改造長槍、5把改造手槍，兩人一共涉嫌持有18把改造槍支，火力驚人\n",
      "據查，游、龍有多項前科，其中游除涉槍、毒案外，也涉殺人、擄人勒贖等重大刑案，游擁槍自重，行徑囂張，今年5月間獲法院交保後，又在台中犯下擄人恐嚇取財案，案發後還在臉書高調打卡「哥帥的是心」，19日游在南投仁愛釣魚時落網，他自誇「跟張錫銘一起關過」\n",
      "1.txt\n",
      "另這次會議也規畫「社區大學經營與前瞻論壇」，並就社區大學功能與定位、補助與評鑑制度、公共責任與在地發展共3大議題進行專題討論，促進全面性的對話和交流，以作為相關政策制定及業務推動的參考\n",
      "社區大學全國發展會議今起兩天在台南舉行，教育部常務次長林騰蛟表示，希望藉此會議促進全面性的對話與交流，讓社區大學更穩健發展\n",
      "社區大學全國發展會議在香格里拉台南遠東國際大飯店舉行，共有全國89所社區大學以及專家學者、實務工作者147人參加\n"
     ]
    }
   ],
   "source": [
    "dirPath = \"/Users/jo/Desktop/txtFile\"\n",
    "#result = [f for f in os.listdir(dirPath) if os.path.isfile(os.path.join(dirPath, f))]\n",
    "pathname = []\n",
    "file = []\n",
    "for f in os.listdir(dirPath):\n",
    "    if os.path.isfile(os.path.join(dirPath, f)):\n",
    "        file += [f]\n",
    "        pathname += [dirPath + '/' + f]\n",
    "\n",
    "i = 0\n",
    "for r in pathname:\n",
    "    text = codecs.open(r, 'r', 'utf-8').read()\n",
    "    tr4s = TextRank4Sentence()\n",
    "    tr4s.analyze(text=text, lower=True, source = 'all_filters')\n",
    "\n",
    "    os.chdir('/Users/jo/Desktop')\n",
    "    txt = codecs.open(file[i], 'w')\n",
    "    print(file[i])\n",
    "    i += 1\n",
    "    for item in tr4s.get_key_sentences(num = 3):\n",
    "    #print(item.index, item.weight, item.sentence)\n",
    "        txt.write(item.sentence)\n",
    "        print(item.sentence)\n",
    "    txt.close()"
   ]
  },
  {
   "cell_type": "code",
   "execution_count": null,
   "metadata": {},
   "outputs": [],
   "source": []
  }
 ],
 "metadata": {
  "kernelspec": {
   "display_name": "Python 3",
   "language": "python",
   "name": "python3"
  },
  "language_info": {
   "codemirror_mode": {
    "name": "ipython",
    "version": 3
   },
   "file_extension": ".py",
   "mimetype": "text/x-python",
   "name": "python",
   "nbconvert_exporter": "python",
   "pygments_lexer": "ipython3",
   "version": "3.9.2"
  }
 },
 "nbformat": 4,
 "nbformat_minor": 2
}
