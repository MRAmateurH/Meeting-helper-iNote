{
 "cells": [
  {
   "cell_type": "code",
   "execution_count": 3,
   "metadata": {},
   "outputs": [],
   "source": [
    "import os\n",
    "import glob\n",
    "import numpy as np\n",
    "import scipy.io.wavfile as wav\n",
    "\n",
    "import pymysql"
   ]
  },
  {
   "cell_type": "code",
   "execution_count": 4,
   "metadata": {},
   "outputs": [
    {
     "name": "stdout",
     "output_type": "stream",
     "text": [
      "'cryptography' package is required for sha256_password or caching_sha2_password auth methods\n"
     ]
    }
   ],
   "source": [
    "db_settings = {\n",
    "    \"host\": \"127.0.0.1\",\n",
    "    \"port\": 3306,\n",
    "    \"user\": \"root\",\n",
    "    \"password\": \"password\",\n",
    "    \"db\": \"iNote\",\n",
    "    \"charset\": \"utf8\"\n",
    "}"
   ]
  },
  {
   "cell_type": "code",
   "execution_count": null,
   "metadata": {},
   "outputs": [],
   "source": [
    "result = []\n",
    "\n",
    "try:\n",
    "    conn = pymysql.connect(**db_settings)\n",
    "    with conn.cursor() as cursor:\n",
    "        #command = \"delete from article where title = \\\"Frank\\\"\"\n",
    "        #command = \"INSERT INTO wav( pathname, meeting_id )VALUES( %s, %s )\"\n",
    "        command = \"SELECT pathname FROM wav WHERE meeting_id = %s\"\n",
    "        \n",
    "        #cursor.execute( command )\n",
    "        cursor.execute(command, (\"654321\"))\n",
    "        \n",
    "        result += cursor.fetchall()\n",
    "        print(result)\n",
    "except Exception as ex:\n",
    "    print(ex)"
   ]
  },
  {
   "cell_type": "code",
   "execution_count": 3,
   "metadata": {},
   "outputs": [
    {
     "name": "stdout",
     "output_type": "stream",
     "text": [
      "[array([[  0,   0],\n",
      "       [  0,   0],\n",
      "       [  0,   0],\n",
      "       ...,\n",
      "       [103,  10],\n",
      "       [135,  76],\n",
      "       [160, 101]], dtype=int16), array([[   0,    0],\n",
      "       [   0,    0],\n",
      "       [   0,    0],\n",
      "       ...,\n",
      "       [ 305, -347],\n",
      "       [ 289, -264],\n",
      "       [ 221,  -72]], dtype=int16), array([[   0,    0],\n",
      "       [   0,    0],\n",
      "       [   0,    0],\n",
      "       ...,\n",
      "       [-227, -586],\n",
      "       [-340, -631],\n",
      "       [-364, -400]], dtype=int16), array([[   0,    0],\n",
      "       [   0,    0],\n",
      "       [   0,    0],\n",
      "       ...,\n",
      "       [-227, -586],\n",
      "       [-340, -631],\n",
      "       [-364, -400]], dtype=int16)]\n",
      "complete!\n"
     ]
    }
   ],
   "source": [
    "meeting_id = '654321'\n",
    "merged_signal = []\n",
    "for tuple in result:\n",
    "    for filename in tuple:\n",
    "        sr, signal = wav.read(filename)\n",
    "        merged_signal.append(signal)\n",
    "print(merged_signal)\n",
    "merged_signal=np.vstack(merged_signal)\n",
    "merged_signal = np.asarray(merged_signal, dtype=np.int16)\n",
    "fn = '/Users/jo/Desktop/wavFile/' + meeting_id + '_c' + '.wav'\n",
    "wav.write(fn , sr, merged_signal)\n",
    "print(\"complete!\")"
   ]
  },
  {
   "cell_type": "code",
   "execution_count": 4,
   "metadata": {},
   "outputs": [
    {
     "name": "stdout",
     "output_type": "stream",
     "text": [
      "(1062, \"Duplicate entry '/Users/jo/Desktop/wavFile/654321_c.wav' for key 'wav.PRIMARY'\")\n"
     ]
    }
   ],
   "source": [
    "try:\n",
    "    conn = pymysql.connect(**db_settings)\n",
    "    with conn.cursor() as cursor:\n",
    "        command = \"INSERT INTO wav( pathname, meeting_id )VALUES( %s, %s )\"\n",
    "        \n",
    "        cursor.execute( command, ( fn, meeting_id ) )\n",
    "        conn.commit()\n",
    "except Exception as ex:\n",
    "    print(ex)"
   ]
  },
  {
   "cell_type": "code",
   "execution_count": null,
   "metadata": {},
   "outputs": [],
   "source": []
  }
 ],
 "metadata": {
  "kernelspec": {
   "display_name": "Python 3",
   "language": "python",
   "name": "python3"
  },
  "language_info": {
   "codemirror_mode": {
    "name": "ipython",
    "version": 3
   },
   "file_extension": ".py",
   "mimetype": "text/x-python",
   "name": "python",
   "nbconvert_exporter": "python",
   "pygments_lexer": "ipython3",
   "version": "3.9.2"
  }
 },
 "nbformat": 4,
 "nbformat_minor": 2
}
